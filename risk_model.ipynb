{
 "cells": [
  {
   "cell_type": "code",
   "execution_count": 17,
   "id": "7fa3a513-175b-49ef-a133-4defe1b3f886",
   "metadata": {},
   "outputs": [
    {
     "name": "stdout",
     "output_type": "stream",
     "text": [
      "                id                 date  client_id  card_id  amount  \\\n",
      "0          7475327  2010-01-01 00:01:00       1556     2972  -77.00   \n",
      "1          7475328  2010-01-01 00:02:00        561     4575   14.57   \n",
      "2          7475329  2010-01-01 00:02:00       1129      102   80.00   \n",
      "3          7475331  2010-01-01 00:05:00        430     2860  200.00   \n",
      "4          7475332  2010-01-01 00:06:00        848     3915   46.41   \n",
      "...            ...                  ...        ...      ...     ...   \n",
      "13305910  23761868  2019-10-31 23:56:00       1718     2379    1.11   \n",
      "13305911  23761869  2019-10-31 23:56:00       1766     2066   12.80   \n",
      "13305912  23761870  2019-10-31 23:57:00        199     1031   40.44   \n",
      "13305913  23761873  2019-10-31 23:58:00       1986     5443    4.00   \n",
      "13305914  23761874  2019-10-31 23:59:00        489     5697   12.88   \n",
      "\n",
      "                    use_chip  merchant_id merchant_city merchant_state  \\\n",
      "0          Swipe Transaction        59935        Beulah             ND   \n",
      "1          Swipe Transaction        67570    Bettendorf             IA   \n",
      "2          Swipe Transaction        27092         Vista             CA   \n",
      "3          Swipe Transaction        27092   Crown Point             IN   \n",
      "4          Swipe Transaction        13051       Harwood             MD   \n",
      "...                      ...          ...           ...            ...   \n",
      "13305910    Chip Transaction        86438   West Covina             CA   \n",
      "13305911  Online Transaction        39261        ONLINE            NaN   \n",
      "13305912   Swipe Transaction         2925         Allen             TX   \n",
      "13305913    Chip Transaction        46284     Daly City             CA   \n",
      "13305914    Chip Transaction        24658    Greenbrier             TN   \n",
      "\n",
      "              zip   mcc errors  usechip_risk  error_risk  total_risk  \n",
      "0         58523.0  5499    NaN         0.750         0.0       0.750  \n",
      "1         52722.0  5311    NaN         0.750         0.0       0.750  \n",
      "2         92084.0  4829    NaN         0.750         0.0       0.750  \n",
      "3         46307.0  4829    NaN         0.750         0.0       0.750  \n",
      "4         20776.0  5813    NaN         0.750         0.0       0.750  \n",
      "...           ...   ...    ...           ...         ...         ...  \n",
      "13305910  91792.0  5499    NaN           NaN         0.0         NaN  \n",
      "13305911      NaN  5815    NaN         0.225         0.0       0.225  \n",
      "13305912  75002.0  4900    NaN         0.750         0.0       0.750  \n",
      "13305913  94014.0  5411    NaN           NaN         0.0         NaN  \n",
      "13305914  37073.0  5921    NaN           NaN         0.0         NaN  \n",
      "\n",
      "[13305915 rows x 15 columns]\n"
     ]
    }
   ],
   "source": [
    "import pandas as pd\n",
    "\n",
    "header = [\"id\",\"date\", \"client_id\",\"card_id\", \"amount\", \"use_chip\", \"merchant_id\", \"merchant_city\",\"merchant_state\",\"zip\", \"mcc\", \"errors\"]\n",
    "\n",
    "#read csv using column names\n",
    "trans_file = pd.read_csv(\"transactions_data.csv\", names=header, skiprows=1 )\n",
    "\n",
    "# snippet to remove the $ sign and change the amount to string to enable calculation \n",
    "trans_file['amount'] = trans_file['amount'].astype(str).str.replace('$', '', regex=False)\n",
    "trans_file['amount'] = pd.to_numeric(trans_file['amount'], errors='coerce')  # Convert to float\n",
    "\n",
    "#Risks weights\n",
    "usechip_risk = {\n",
    "    'Swipe Transaction' : 1,\n",
    "    'Online Transaction' : 0.3\n",
    "}\n",
    "#making a use chip risk column\n",
    "trans_file['usechip_risk'] = trans_file['use_chip'].map(usechip_risk)\n",
    "\n",
    "#adding risks based on presence of error message\n",
    "# notna() basically checks the file for empty spaces in a column\n",
    "trans_file['error_risk'] = trans_file['errors'].notna().astype(int)\n",
    "\n",
    "#calculation \n",
    "def normalize(series):\n",
    "    return (series - series.min()) / (series.max() -series.min())\n",
    "weights = {\n",
    "    'usechip_risk': 0.75,\n",
    "    'error_risk': 0.25\n",
    "}\n",
    "\n",
    "trans_file['usechip_risk'] = trans_file['usechip_risk']* weights['usechip_risk']\n",
    "trans_file['error_risk'] = trans_file['error_risk'] * weights['error_risk']\n",
    "trans_file['total_risk'] = ( \n",
    "    trans_file ['usechip_risk'] + \n",
    "    trans_file ['error_risk']\n",
    ")\n",
    "print(trans_file)\n",
    "  \n"
   ]
  },
  {
   "cell_type": "code",
   "execution_count": null,
   "id": "76fa601e-adff-4cdb-9a2c-d6c1f188e4a2",
   "metadata": {},
   "outputs": [],
   "source": [
    "print(\"bpy\")"
   ]
  },
  {
   "cell_type": "code",
   "execution_count": null,
   "id": "b58c44b5-6416-4af8-8a78-42eb60575a6f",
   "metadata": {},
   "outputs": [],
   "source": []
  },
  {
   "cell_type": "code",
   "execution_count": null,
   "id": "8b3bd67d-fbd3-4e0c-a4a0-151ed7a7471f",
   "metadata": {},
   "outputs": [],
   "source": []
  }
 ],
 "metadata": {
  "kernelspec": {
   "display_name": "Python 3 (ipykernel)",
   "language": "python",
   "name": "python3"
  },
  "language_info": {
   "codemirror_mode": {
    "name": "ipython",
    "version": 3
   },
   "file_extension": ".py",
   "mimetype": "text/x-python",
   "name": "python",
   "nbconvert_exporter": "python",
   "pygments_lexer": "ipython3",
   "version": "3.12.7"
  }
 },
 "nbformat": 4,
 "nbformat_minor": 5
}
